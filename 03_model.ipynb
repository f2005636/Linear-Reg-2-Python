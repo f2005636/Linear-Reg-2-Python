{
 "cells": [
  {
   "cell_type": "markdown",
   "metadata": {},
   "source": [
    "** 1. import libraries **"
   ]
  },
  {
   "cell_type": "code",
   "execution_count": 1,
   "metadata": {
    "collapsed": true
   },
   "outputs": [],
   "source": [
    "import numpy as np\n",
    "import pandas as pd\n",
    "import statsmodels.api as sm"
   ]
  },
  {
   "cell_type": "markdown",
   "metadata": {},
   "source": [
    "** 2. import dataset **"
   ]
  },
  {
   "cell_type": "code",
   "execution_count": 2,
   "metadata": {},
   "outputs": [
    {
     "data": {
      "text/html": [
       "<div>\n",
       "<style scoped>\n",
       "    .dataframe tbody tr th:only-of-type {\n",
       "        vertical-align: middle;\n",
       "    }\n",
       "\n",
       "    .dataframe tbody tr th {\n",
       "        vertical-align: top;\n",
       "    }\n",
       "\n",
       "    .dataframe thead th {\n",
       "        text-align: right;\n",
       "    }\n",
       "</style>\n",
       "<table border=\"1\" class=\"dataframe\">\n",
       "  <thead>\n",
       "    <tr style=\"text-align: right;\">\n",
       "      <th></th>\n",
       "      <th>Y</th>\n",
       "      <th>y_bedrooms</th>\n",
       "      <th>y_bathrooms</th>\n",
       "      <th>y_waterfront</th>\n",
       "      <th>y_view</th>\n",
       "      <th>y_condition</th>\n",
       "      <th>y_grade</th>\n",
       "      <th>y_sqft_above</th>\n",
       "      <th>y_sqft_living15</th>\n",
       "      <th>y_yr</th>\n",
       "    </tr>\n",
       "  </thead>\n",
       "  <tbody>\n",
       "    <tr>\n",
       "      <th>0</th>\n",
       "      <td>221900.0</td>\n",
       "      <td>582167.0</td>\n",
       "      <td>357727.0000</td>\n",
       "      <td>0</td>\n",
       "      <td>566681</td>\n",
       "      <td>3</td>\n",
       "      <td>-48628</td>\n",
       "      <td>395202.710646</td>\n",
       "      <td>388139.995039</td>\n",
       "      <td>-3.530110e+07</td>\n",
       "    </tr>\n",
       "    <tr>\n",
       "      <th>1</th>\n",
       "      <td>538000.0</td>\n",
       "      <td>582167.0</td>\n",
       "      <td>525669.8125</td>\n",
       "      <td>0</td>\n",
       "      <td>566681</td>\n",
       "      <td>3</td>\n",
       "      <td>-48628</td>\n",
       "      <td>597604.504375</td>\n",
       "      <td>466766.602799</td>\n",
       "      <td>-3.522206e+07</td>\n",
       "    </tr>\n",
       "    <tr>\n",
       "      <th>2</th>\n",
       "      <td>180000.0</td>\n",
       "      <td>407085.0</td>\n",
       "      <td>357727.0000</td>\n",
       "      <td>0</td>\n",
       "      <td>566681</td>\n",
       "      <td>3</td>\n",
       "      <td>-165242</td>\n",
       "      <td>357673.768841</td>\n",
       "      <td>786259.396368</td>\n",
       "      <td>-3.527230e+07</td>\n",
       "    </tr>\n",
       "    <tr>\n",
       "      <th>3</th>\n",
       "      <td>604000.0</td>\n",
       "      <td>720397.0</td>\n",
       "      <td>767935.0000</td>\n",
       "      <td>0</td>\n",
       "      <td>566681</td>\n",
       "      <td>5</td>\n",
       "      <td>-48628</td>\n",
       "      <td>357673.768841</td>\n",
       "      <td>388139.995039</td>\n",
       "      <td>-3.529533e+07</td>\n",
       "    </tr>\n",
       "    <tr>\n",
       "      <th>4</th>\n",
       "      <td>510000.0</td>\n",
       "      <td>582167.0</td>\n",
       "      <td>468498.0000</td>\n",
       "      <td>0</td>\n",
       "      <td>566681</td>\n",
       "      <td>3</td>\n",
       "      <td>156792</td>\n",
       "      <td>447700.770687</td>\n",
       "      <td>545891.725081</td>\n",
       "      <td>-3.524344e+07</td>\n",
       "    </tr>\n",
       "  </tbody>\n",
       "</table>\n",
       "</div>"
      ],
      "text/plain": [
       "          Y  y_bedrooms  y_bathrooms  y_waterfront  y_view  y_condition  \\\n",
       "0  221900.0    582167.0  357727.0000             0  566681            3   \n",
       "1  538000.0    582167.0  525669.8125             0  566681            3   \n",
       "2  180000.0    407085.0  357727.0000             0  566681            3   \n",
       "3  604000.0    720397.0  767935.0000             0  566681            5   \n",
       "4  510000.0    582167.0  468498.0000             0  566681            3   \n",
       "\n",
       "   y_grade   y_sqft_above  y_sqft_living15          y_yr  \n",
       "0   -48628  395202.710646    388139.995039 -3.530110e+07  \n",
       "1   -48628  597604.504375    466766.602799 -3.522206e+07  \n",
       "2  -165242  357673.768841    786259.396368 -3.527230e+07  \n",
       "3   -48628  357673.768841    388139.995039 -3.529533e+07  \n",
       "4   156792  447700.770687    545891.725081 -3.524344e+07  "
      ]
     },
     "execution_count": 2,
     "metadata": {},
     "output_type": "execute_result"
    }
   ],
   "source": [
    "df = pd.read_csv('model.csv')\n",
    "df.drop(['Unnamed: 0'], axis=1, inplace=True)\n",
    "df.head()"
   ]
  },
  {
   "cell_type": "markdown",
   "metadata": {},
   "source": [
    "** 3. correlation matrix ** "
   ]
  },
  {
   "cell_type": "code",
   "execution_count": 3,
   "metadata": {},
   "outputs": [
    {
     "data": {
      "text/plain": [
       "Y                  1.000000\n",
       "y_bedrooms         0.306964\n",
       "y_bathrooms        0.568580\n",
       "y_waterfront       0.261176\n",
       "y_view             0.400597\n",
       "y_condition        0.039005\n",
       "y_grade            0.713869\n",
       "y_sqft_above       0.616594\n",
       "y_sqft_living15    0.588129\n",
       "y_yr               0.196849\n",
       "Name: Y, dtype: float64"
      ]
     },
     "execution_count": 3,
     "metadata": {},
     "output_type": "execute_result"
    }
   ],
   "source": [
    "df.corr()['Y']"
   ]
  },
  {
   "cell_type": "code",
   "execution_count": 4,
   "metadata": {
    "scrolled": true
   },
   "outputs": [
    {
     "data": {
      "text/html": [
       "<div>\n",
       "<style scoped>\n",
       "    .dataframe tbody tr th:only-of-type {\n",
       "        vertical-align: middle;\n",
       "    }\n",
       "\n",
       "    .dataframe tbody tr th {\n",
       "        vertical-align: top;\n",
       "    }\n",
       "\n",
       "    .dataframe thead th {\n",
       "        text-align: right;\n",
       "    }\n",
       "</style>\n",
       "<table border=\"1\" class=\"dataframe\">\n",
       "  <thead>\n",
       "    <tr style=\"text-align: right;\">\n",
       "      <th></th>\n",
       "      <th>y_bedrooms</th>\n",
       "      <th>y_bathrooms</th>\n",
       "      <th>y_waterfront</th>\n",
       "      <th>y_view</th>\n",
       "      <th>y_grade</th>\n",
       "    </tr>\n",
       "  </thead>\n",
       "  <tbody>\n",
       "    <tr>\n",
       "      <th>y_bedrooms</th>\n",
       "      <td>1.000000</td>\n",
       "      <td>0.450125</td>\n",
       "      <td>-0.013292</td>\n",
       "      <td>0.067489</td>\n",
       "      <td>0.330444</td>\n",
       "    </tr>\n",
       "    <tr>\n",
       "      <th>y_bathrooms</th>\n",
       "      <td>0.450125</td>\n",
       "      <td>1.000000</td>\n",
       "      <td>0.078580</td>\n",
       "      <td>0.203260</td>\n",
       "      <td>0.623821</td>\n",
       "    </tr>\n",
       "    <tr>\n",
       "      <th>y_waterfront</th>\n",
       "      <td>-0.013292</td>\n",
       "      <td>0.078580</td>\n",
       "      <td>1.000000</td>\n",
       "      <td>0.467338</td>\n",
       "      <td>0.099254</td>\n",
       "    </tr>\n",
       "    <tr>\n",
       "      <th>y_view</th>\n",
       "      <td>0.067489</td>\n",
       "      <td>0.203260</td>\n",
       "      <td>0.467338</td>\n",
       "      <td>1.000000</td>\n",
       "      <td>0.264487</td>\n",
       "    </tr>\n",
       "    <tr>\n",
       "      <th>y_grade</th>\n",
       "      <td>0.330444</td>\n",
       "      <td>0.623821</td>\n",
       "      <td>0.099254</td>\n",
       "      <td>0.264487</td>\n",
       "      <td>1.000000</td>\n",
       "    </tr>\n",
       "  </tbody>\n",
       "</table>\n",
       "</div>"
      ],
      "text/plain": [
       "              y_bedrooms  y_bathrooms  y_waterfront    y_view   y_grade\n",
       "y_bedrooms      1.000000     0.450125     -0.013292  0.067489  0.330444\n",
       "y_bathrooms     0.450125     1.000000      0.078580  0.203260  0.623821\n",
       "y_waterfront   -0.013292     0.078580      1.000000  0.467338  0.099254\n",
       "y_view          0.067489     0.203260      0.467338  1.000000  0.264487\n",
       "y_grade         0.330444     0.623821      0.099254  0.264487  1.000000"
      ]
     },
     "execution_count": 4,
     "metadata": {},
     "output_type": "execute_result"
    }
   ],
   "source": [
    "df.drop(['Y','y_condition','y_yr','y_sqft_above','y_sqft_living15'], axis=1).corr()"
   ]
  },
  {
   "cell_type": "markdown",
   "metadata": {},
   "source": [
    "** 4. linear reg **"
   ]
  },
  {
   "cell_type": "code",
   "execution_count": 5,
   "metadata": {},
   "outputs": [],
   "source": [
    "y = df['Y']\n",
    "x = df.drop(['Y','y_condition','y_yr','y_sqft_above','y_sqft_living15'], axis=1)"
   ]
  },
  {
   "cell_type": "code",
   "execution_count": 6,
   "metadata": {},
   "outputs": [
    {
     "data": {
      "text/html": [
       "<table class=\"simpletable\">\n",
       "<caption>OLS Regression Results</caption>\n",
       "<tr>\n",
       "  <th>Dep. Variable:</th>            <td>Y</td>        <th>  R-squared:         </th>  <td>   0.591</td>  \n",
       "</tr>\n",
       "<tr>\n",
       "  <th>Model:</th>                   <td>OLS</td>       <th>  Adj. R-squared:    </th>  <td>   0.591</td>  \n",
       "</tr>\n",
       "<tr>\n",
       "  <th>Method:</th>             <td>Least Squares</td>  <th>  F-statistic:       </th>  <td>   6241.</td>  \n",
       "</tr>\n",
       "<tr>\n",
       "  <th>Date:</th>             <td>Fri, 27 Mar 2020</td> <th>  Prob (F-statistic):</th>   <td>  0.00</td>   \n",
       "</tr>\n",
       "<tr>\n",
       "  <th>Time:</th>                 <td>00:39:20</td>     <th>  Log-Likelihood:    </th> <td>-2.9681e+05</td>\n",
       "</tr>\n",
       "<tr>\n",
       "  <th>No. Observations:</th>      <td> 21581</td>      <th>  AIC:               </th>  <td>5.936e+05</td> \n",
       "</tr>\n",
       "<tr>\n",
       "  <th>Df Residuals:</th>          <td> 21575</td>      <th>  BIC:               </th>  <td>5.937e+05</td> \n",
       "</tr>\n",
       "<tr>\n",
       "  <th>Df Model:</th>              <td>     5</td>      <th>                     </th>      <td> </td>     \n",
       "</tr>\n",
       "<tr>\n",
       "  <th>Covariance Type:</th>      <td>nonrobust</td>    <th>                     </th>      <td> </td>     \n",
       "</tr>\n",
       "</table>\n",
       "<table class=\"simpletable\">\n",
       "<tr>\n",
       "        <td></td>          <th>coef</th>     <th>std err</th>      <th>t</th>      <th>P>|t|</th>  <th>[0.025</th>    <th>0.975]</th>  \n",
       "</tr>\n",
       "<tr>\n",
       "  <th>const</th>        <td>-5.171e+04</td> <td> 1.16e+04</td> <td>   -4.455</td> <td> 0.000</td> <td>-7.45e+04</td> <td> -2.9e+04</td>\n",
       "</tr>\n",
       "<tr>\n",
       "  <th>y_bedrooms</th>   <td>    0.1224</td> <td>    0.014</td> <td>    8.720</td> <td> 0.000</td> <td>    0.095</td> <td>    0.150</td>\n",
       "</tr>\n",
       "<tr>\n",
       "  <th>y_bathrooms</th>  <td>    0.2862</td> <td>    0.010</td> <td>   28.940</td> <td> 0.000</td> <td>    0.267</td> <td>    0.306</td>\n",
       "</tr>\n",
       "<tr>\n",
       "  <th>y_waterfront</th> <td> 4.852e+05</td> <td> 2.04e+04</td> <td>   23.813</td> <td> 0.000</td> <td> 4.45e+05</td> <td> 5.25e+05</td>\n",
       "</tr>\n",
       "<tr>\n",
       "  <th>y_view</th>       <td>    0.4498</td> <td>    0.014</td> <td>   32.605</td> <td> 0.000</td> <td>    0.423</td> <td>    0.477</td>\n",
       "</tr>\n",
       "<tr>\n",
       "  <th>y_grade</th>      <td>    0.6020</td> <td>    0.006</td> <td>   94.631</td> <td> 0.000</td> <td>    0.590</td> <td>    0.614</td>\n",
       "</tr>\n",
       "</table>\n",
       "<table class=\"simpletable\">\n",
       "<tr>\n",
       "  <th>Omnibus:</th>       <td>10838.146</td> <th>  Durbin-Watson:     </th>  <td>   1.962</td> \n",
       "</tr>\n",
       "<tr>\n",
       "  <th>Prob(Omnibus):</th>  <td> 0.000</td>   <th>  Jarque-Bera (JB):  </th> <td>178339.775</td>\n",
       "</tr>\n",
       "<tr>\n",
       "  <th>Skew:</th>           <td> 2.021</td>   <th>  Prob(JB):          </th>  <td>    0.00</td> \n",
       "</tr>\n",
       "<tr>\n",
       "  <th>Kurtosis:</th>       <td>16.491</td>   <th>  Cond. No.          </th>  <td>1.42e+07</td> \n",
       "</tr>\n",
       "</table><br/><br/>Warnings:<br/>[1] Standard Errors assume that the covariance matrix of the errors is correctly specified.<br/>[2] The condition number is large, 1.42e+07. This might indicate that there are<br/>strong multicollinearity or other numerical problems."
      ],
      "text/plain": [
       "<class 'statsmodels.iolib.summary.Summary'>\n",
       "\"\"\"\n",
       "                            OLS Regression Results                            \n",
       "==============================================================================\n",
       "Dep. Variable:                      Y   R-squared:                       0.591\n",
       "Model:                            OLS   Adj. R-squared:                  0.591\n",
       "Method:                 Least Squares   F-statistic:                     6241.\n",
       "Date:                Fri, 27 Mar 2020   Prob (F-statistic):               0.00\n",
       "Time:                        00:39:20   Log-Likelihood:            -2.9681e+05\n",
       "No. Observations:               21581   AIC:                         5.936e+05\n",
       "Df Residuals:                   21575   BIC:                         5.937e+05\n",
       "Df Model:                           5                                         \n",
       "Covariance Type:            nonrobust                                         \n",
       "================================================================================\n",
       "                   coef    std err          t      P>|t|      [0.025      0.975]\n",
       "--------------------------------------------------------------------------------\n",
       "const        -5.171e+04   1.16e+04     -4.455      0.000   -7.45e+04    -2.9e+04\n",
       "y_bedrooms       0.1224      0.014      8.720      0.000       0.095       0.150\n",
       "y_bathrooms      0.2862      0.010     28.940      0.000       0.267       0.306\n",
       "y_waterfront  4.852e+05   2.04e+04     23.813      0.000    4.45e+05    5.25e+05\n",
       "y_view           0.4498      0.014     32.605      0.000       0.423       0.477\n",
       "y_grade          0.6020      0.006     94.631      0.000       0.590       0.614\n",
       "==============================================================================\n",
       "Omnibus:                    10838.146   Durbin-Watson:                   1.962\n",
       "Prob(Omnibus):                  0.000   Jarque-Bera (JB):           178339.775\n",
       "Skew:                           2.021   Prob(JB):                         0.00\n",
       "Kurtosis:                      16.491   Cond. No.                     1.42e+07\n",
       "==============================================================================\n",
       "\n",
       "Warnings:\n",
       "[1] Standard Errors assume that the covariance matrix of the errors is correctly specified.\n",
       "[2] The condition number is large, 1.42e+07. This might indicate that there are\n",
       "strong multicollinearity or other numerical problems.\n",
       "\"\"\""
      ]
     },
     "execution_count": 6,
     "metadata": {},
     "output_type": "execute_result"
    }
   ],
   "source": [
    "x = sm.add_constant(x)\n",
    "reg = sm.OLS(y,x)\n",
    "results = reg.fit()\n",
    "results.summary()"
   ]
  },
  {
   "cell_type": "code",
   "execution_count": 7,
   "metadata": {
    "collapsed": true
   },
   "outputs": [],
   "source": [
    "import matplotlib.pyplot as plt\n",
    "plt.style.use('seaborn-white')\n",
    "%matplotlib inline\n",
    "plt.rcParams['figure.figsize'] = 8,8\n",
    "import seaborn as sns"
   ]
  },
  {
   "cell_type": "code",
   "execution_count": 8,
   "metadata": {},
   "outputs": [
    {
     "data": {
      "image/png": "[encoded data removed]",
      "text/plain": [
       "<Figure size 576x576 with 1 Axes>"
      ]
     },
     "metadata": {},
     "output_type": "display_data"
    }
   ],
   "source": [
    "df['yhat'] = -51710 + 0.1224*df['y_bedrooms'] + 0.2862*df['y_bathrooms'] + 485200*df['y_waterfront'] + 0.4498*df['y_view'] + 0.602*df['y_grade'] \n",
    "yhat = df['yhat']\n",
    "plt.scatter(y,yhat,alpha=0.25)\n",
    "plt.xlabel('act', fontsize = 20)\n",
    "plt.ylabel('pred', fontsize = 20)\n",
    "plt.xlim(0,5000000)\n",
    "plt.ylim(0,5000000)\n",
    "plt.show()"
   ]
  }
 ],
 "metadata": {
  "kernelspec": {
   "display_name": "Python 3",
   "language": "python",
   "name": "python3"
  },
  "language_info": {
   "codemirror_mode": {
    "name": "ipython",
    "version": 3
   },
   "file_extension": ".py",
   "mimetype": "text/x-python",
   "name": "python",
   "nbconvert_exporter": "python",
   "pygments_lexer": "ipython3",
   "version": "3.6.2"
  }
 },
 "nbformat": 4,
 "nbformat_minor": 2
}
